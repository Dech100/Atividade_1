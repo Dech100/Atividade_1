{
  "cells": [
    {
      "cell_type": "markdown",
      "metadata": {
        "id": "view-in-github",
        "colab_type": "text"
      },
      "source": [
        "<a href=\"https://colab.research.google.com/github/Dech100/Atividade_1/blob/master/T1_Classifica%C3%A7%C3%A3o_binaria_keras.ipynb\" target=\"_parent\"><img src=\"https://colab.research.google.com/assets/colab-badge.svg\" alt=\"Open In Colab\"/></a>"
      ]
    },
    {
      "cell_type": "markdown",
      "metadata": {
        "id": "muaHW-rjmQnM"
      },
      "source": [
        "# Trabalho #1 - Classificação binária com rede neural deep-learning\n",
        "\n",
        "Nesse trabalho você vai desenvolver uma rede neural rasa e uma deep-learning, usando a plataforma TensorFlow-Keras, para realizar uma tarefa de classificação binária para reconhecer gatos em imagens e comparar o desempenho das duas redes."
      ]
    },
    {
      "cell_type": "code",
      "source": [
        "from google.colab import drive\n",
        "drive.mount('/content/drive')"
      ],
      "metadata": {
        "colab": {
          "base_uri": "https://localhost:8080/"
        },
        "id": "7ZZfGINJsHVa",
        "outputId": "67657f9a-acc3-4705-d703-9799ec48fcc4"
      },
      "execution_count": null,
      "outputs": [
        {
          "output_type": "stream",
          "name": "stdout",
          "text": [
            "Drive already mounted at /content/drive; to attempt to forcibly remount, call drive.mount(\"/content/drive\", force_remount=True).\n"
          ]
        }
      ]
    },
    {
      "cell_type": "markdown",
      "metadata": {
        "id": "aeMEiTw-mQnN"
      },
      "source": [
        "## Coloque os nomes e RAs dos alunos que fizeram esse trabalho\n",
        "\n",
        "Nome e número dos alunos da equipe:\n",
        "\n",
        "Aluno 1:\n",
        "\n",
        "Aluno 2:\n",
        "\n",
        "Aluno 3:"
      ]
    },
    {
      "cell_type": "markdown",
      "metadata": {
        "id": "wvvG_5HnmQnN"
      },
      "source": [
        "## 1 - Bibliotecas ##\n",
        "\n",
        "Em primeiro ligar, execute a célula abaixo para importar algumas bibliotecas Python que são usadas nesse trabalho.\n",
        "- [numpy](www.numpy.org) é a biblioteca básica para computação cinetífica usando Python.\n",
        "- [h5py](http://www.h5py.org) é uma biblioteca que fornece funções para interagir com banco de dados salvos em arquivos no formato h5.\n",
        "- [matplotlib](http://matplotlib.org) é uma biblioteca famosa usada para fazer gráficos com Python.\n",
        "- [PIL](http://www.pythonware.com/products/pil/) e [scipy](https://www.scipy.org/) são usadas para testar a sua RNA com novas imagens no final do trabalho.\n",
        "- lr_utils é um arquivo com uma função para ler os dados usados nesse trabalho. Esse arquivo é fornecido e deve ser carregado no Colab."
      ]
    },
    {
      "cell_type": "markdown",
      "metadata": {
        "id": "UpAiN7KjmQnO"
      },
      "source": [
        "O comando da célula abaixo importa o TensorFlow e verifica a versão que está sendo utilizada."
      ]
    },
    {
      "cell_type": "code",
      "execution_count": null,
      "metadata": {
        "colab": {
          "base_uri": "https://localhost:8080/",
          "height": 35
        },
        "id": "Z0pVu6HmmQnO",
        "outputId": "f7c1d7f5-08c4-443d-e331-59ffccffaf03"
      },
      "outputs": [
        {
          "output_type": "execute_result",
          "data": {
            "text/plain": [
              "'2.13.0'"
            ],
            "application/vnd.google.colaboratory.intrinsic+json": {
              "type": "string"
            }
          },
          "metadata": {},
          "execution_count": 27
        }
      ],
      "source": [
        "import tensorflow as tf\n",
        "tf.__version__"
      ]
    },
    {
      "cell_type": "markdown",
      "metadata": {
        "id": "eVwJv7L3mQnP"
      },
      "source": [
        "Como o TensorFlow é um software aberto não existe muita preocupação do desenvolvedor (no caso o Google) de manter a compatibilidade entre as versões. Assim, se você estiver usando uma versão do TensorFlow incompatível com o seu programa, você pode impor o uso de uma versão mais antiga.\n",
        "\n",
        "Por exemplo o código abaixo importa a versão 2 do TensorFlow, mas se ela não estiver instalada importa a versão instalada.\n",
        "\n",
        "```\n",
        " try:\n",
        "     import tensorflow.compat.v2 as tf\n",
        " except Exception:\n",
        "     import tensorflow as tf    \n",
        " print(tf.__version__)\n",
        "```\n",
        "\n",
        "Outro exemplo, se a versão instalada do TensorFlow for a 2 e o seu programa foi feito para a versão 1, então pode habilitar a versão 2 com o comportamento da versão 1. O código abaixo mostra como fazer isso.\n",
        "\n",
        "```\n",
        " import tensorflow as tf\n",
        " print(tf.__version__)\n",
        " tf.enable_v1_behavior()\n",
        "```"
      ]
    },
    {
      "cell_type": "code",
      "execution_count": null,
      "metadata": {
        "id": "KIh-N-wUmQnP"
      },
      "outputs": [],
      "source": [
        "import numpy as np\n",
        "import matplotlib.pyplot as plt\n",
        "import h5py\n",
        "import scipy\n",
        "from PIL import Image\n",
        "from scipy import ndimage\n",
        "from lr_utils import load_dataset\n",
        "\n",
        "np.random.seed(3)\n",
        "\n",
        "%matplotlib inline"
      ]
    },
    {
      "cell_type": "markdown",
      "metadata": {
        "collapsed": true,
        "id": "30I97hSjmQnP"
      },
      "source": [
        "## 2 - Visão geral do problema ##\n",
        "\n",
        "**Definição do problema**:\n",
        "\n",
        "Nesse trabalho é fornecido um conjunto de dados que contém:\n",
        "\n",
        "    - um conjunto de imagens de treinamento classificadas como tendo gato (y=1) ou não tendo gato (y=0);\n",
        "    - um conjunto de imagens de teste classificadas como tendo gato (y=1) ou não tendo gato (y=0);\n",
        "    - a dimensão de cada imagem é (num_px, num_px, 3), onde 3 é o número de canais de cor (RGB);\n",
        "    - cada imagem é composta por três matrizes de dimensão: número de linhas = num_px e número de colunas = num_px;\n",
        "    - número de imagens do conjunto de treinamento: m_train;\n",
        "    - número de imagens do conjunto de teste: m_test.\n",
        "\n",
        "A partir desses conjuntos de dados, a sua tarefa é desenvolver um sistema baseado em uma rede neural, para processar imagens e classificar corretamente se ela mostra ou não um gato. Para isso, você vai desenvolver algumas redes neurais usando a ferramenta Keras e comparar o desempenho delas.\n",
        "\n",
        "O uso da ferramenta Keras para desenvolver redes neurais facilita muito o trabalho, pois não exige desenvolver codigos específicos para implementar cada camada da rede, a função de custo, a métrica e principalmente o gradiente descendente."
      ]
    },
    {
      "cell_type": "markdown",
      "metadata": {
        "id": "HgD8LetTmQnP"
      },
      "source": [
        "## 3 - Conjunto de dados de treinamento e teste\n",
        "\n",
        "Para carregar o conjunto de dados execute o código a seguir.\n",
        "\n",
        "O termo _orig é adicionado no final dos tensores com os dados de treinamento e teste originais porque vamos processar esses dados."
      ]
    },
    {
      "cell_type": "code",
      "execution_count": null,
      "metadata": {
        "id": "wKdlguYHmQnP"
      },
      "outputs": [],
      "source": [
        "# Carregando os dados (gato/não-gato)\n",
        "train_set_x_orig, train_set_y, test_set_x_orig, test_set_y, classes = load_dataset()"
      ]
    },
    {
      "cell_type": "code",
      "execution_count": null,
      "metadata": {
        "id": "z9qfOzqAmQnP",
        "colab": {
          "base_uri": "https://localhost:8080/",
          "height": 467
        },
        "outputId": "148b8de1-d745-4d50-97a0-c06065f930dc"
      },
      "outputs": [
        {
          "output_type": "stream",
          "name": "stdout",
          "text": [
            "(64, 64, 3)\n",
            "y = [1], it's a 'cat' picture.\n"
          ]
        },
        {
          "output_type": "display_data",
          "data": {
            "text/plain": [
              "<Figure size 640x480 with 1 Axes>"
            ],
            "image/png": "[encoded data removed]"
          },
          "metadata": {}
        }
      ],
      "source": [
        "# Exemplo de uma imagem\n",
        "index = 11\n",
        "print(train_set_x_orig[index].shape)\n",
        "plt.imshow(train_set_x_orig[index])\n",
        "print (\"y = \" + str(train_set_y[:, index]) + \", it's a '\" + classes[np.squeeze(train_set_y[:, index])].decode(\"utf-8\") +  \"' picture.\")"
      ]
    },
    {
      "cell_type": "markdown",
      "metadata": {
        "id": "7zQkTBfpmQnP"
      },
      "source": [
        "No código acima index é o número sequencial da imagem. Tente trocar a imagem, mudando o index, usando valores entre 0 e 208, para visualizar outros exemplos."
      ]
    },
    {
      "cell_type": "markdown",
      "metadata": {
        "id": "S47YWCrEmQnQ"
      },
      "source": [
        "### 3.1 - Determinação do formato e dimensões dos dados\n",
        "\n",
        "### Exercício #1:\n",
        "\n",
        "É importante conhecer as dimensões dos dados que estamos trabalhando para evitar problemas. Assim, obtenha os valores dos seguintes parâmetros:\n",
        "    - m_train = número de exemplos de treinamento;\n",
        "    - m_test = número de exemplos de teste;\n",
        "    - num_px = altura e largura das imagens (as imagens são quadradas).\n",
        "    \n",
        "Lembre que `train_set_x_orig` é um tensor numpy de dimensão (m_train, num_px, num_px, 3). Por exemplo, você pode obter  `m_train` escrevendo `train_set_x_orig.shape[0]`."
      ]
    },
    {
      "cell_type": "code",
      "execution_count": null,
      "metadata": {
        "scrolled": true,
        "id": "r58K-feEmQnQ",
        "colab": {
          "base_uri": "https://localhost:8080/"
        },
        "outputId": "60f0ca78-fd99-4391-e567-2d5d3e2e1eef"
      },
      "outputs": [
        {
          "output_type": "stream",
          "name": "stdout",
          "text": [
            "Número de exemplos de treinamento: m_train = 209\n",
            "Número de exemplos de teste: m_test = 50\n",
            "Altura/largura de cada imagem: num_px = 64\n",
            "Dimensão de cada imagem: (64, 64, 3)\n",
            "Dimensão - train_set_x: (209, 64, 64, 3)\n",
            "Dimensão - train_set_y: (1, 209)\n",
            "Dimensão - test_set_x: (50, 64, 64, 3)\n",
            "Dimensão - test_set_y: (1, 50)\n"
          ]
        }
      ],
      "source": [
        "# PARA VOCÊ FAZER:\n",
        "\n",
        "### COMECE AQUIE ### (≈ 3 linhas)\n",
        "m_train = train_set_x_orig.shape[0]\n",
        "m_test = test_set_x_orig.shape[0]\n",
        "num_px = train_set_x_orig.shape[1]\n",
        "### TERMINE AQUI ###\n",
        "\n",
        "print (\"Número de exemplos de treinamento: m_train = \" + str(m_train))\n",
        "print (\"Número de exemplos de teste: m_test = \" + str(m_test))\n",
        "print (\"Altura/largura de cada imagem: num_px = \" + str(num_px))\n",
        "print (\"Dimensão de cada imagem: (\" + str(num_px) + \", \" + str(num_px) + \", 3)\")\n",
        "print (\"Dimensão - train_set_x: \" + str(train_set_x_orig.shape))\n",
        "print (\"Dimensão - train_set_y: \" + str(train_set_y.shape))\n",
        "print (\"Dimensão - test_set_x: \" + str(test_set_x_orig.shape))\n",
        "print (\"Dimensão - test_set_y: \" + str(test_set_y.shape))"
      ]
    },
    {
      "cell_type": "markdown",
      "metadata": {
        "id": "cWFDcbyKmQnQ"
      },
      "source": [
        "**Saída esperada para m_train, m_test e num_px**:\n",
        "\n",
        "    Número de exemplos de treinamento: m_train = 209\n",
        "    Número de exemplos de teste: m_test = 50\n",
        "    Altura/largura de cada imagem: num_px = 64\n",
        "    Dimensão de cada imagem: (64, 64, 3)\n",
        "    Dimensão - train_set_x: (209, 64, 64, 3)\n",
        "    Dimensão - train_set_y: (1, 209)\n",
        "    Dimensão - test_set_x: (50, 64, 64, 3)\n",
        "    Dimensão - test_set_y: (1, 50)\n",
        "\n",
        "Observe que o primeiro eixo dos tensores com as imagens dos conjuntos de teste e de treinamento representa os exemplos, da forma como é esperado para os dados no Keras."
      ]
    },
    {
      "cell_type": "markdown",
      "metadata": {
        "id": "c7pD-cPHmQnQ"
      },
      "source": [
        "### 3.2 - Processamento dos dados\n",
        "\n",
        "Os dados dos exemplos de treinamento e de teste devem ser processados de forma a serem colocados em tensores com as dimensões adequadas e normalizados corretamente. Nos exercícios que seguem você irá realizar o processamento dos dados de forma a poderem ser usados na sua RNA implementada com o Keras."
      ]
    },
    {
      "cell_type": "markdown",
      "metadata": {
        "id": "2OL9Vj6VmQnQ"
      },
      "source": [
        "### Redimensionamento dos dados\n",
        "\n",
        "Os dados de entrada de uma camada de neurônios densa é um vetor, assim, devemos redimensionar as imagens, que tem dimensão (num_px, num_px, 3), para transformá-las em um vetor linha de dimensão (1, num_px∗num_px∗3). Após esse redimensionamento o conjunto de dados é um tensor numpy onde cada linha representa uma imagem \"esticada\". O tensor com as entradas dos dados de treinamento terá m_train linhas e o de teste m_test linhas.\n",
        "\n",
        "Por exemplo, para redimensionar uma matriz de dimensão (a,b,c,d) para uma matriz de dimensão (a, b∗c∗d) pode-se usar o seguinte código Python:\n",
        "\n",
        "```X_flatten = X.reshape((a, b∗c∗d))```\n",
        "\n",
        "A dimensão dos dados de saída também deve ser alterada porque, como visto, o Keras espara que os exemplos representam o primeiro eixo do tensor e nos dados de saída os exemplos representam o segundo eixo. Assim, os vetores com os dados de saída, tanto de treinamento como de teste, devem ser transpostos."
      ]
    },
    {
      "cell_type": "markdown",
      "metadata": {
        "id": "B2aN5llEmQnQ"
      },
      "source": [
        "### Exercício #2:\n",
        "\n",
        "Implemente o redimensionamento dos dados de entrada na célula a seguir."
      ]
    },
    {
      "cell_type": "code",
      "execution_count": null,
      "metadata": {
        "id": "nMukfV_TmQnQ",
        "colab": {
          "base_uri": "https://localhost:8080/"
        },
        "outputId": "c0b76b4a-8f8a-4980-9770-ae7bd465bbab"
      },
      "outputs": [
        {
          "output_type": "stream",
          "name": "stdout",
          "text": [
            "Dimensão - train_set_x_flatten: (209, 12288)\n",
            "Dimensão - train_set_y: (209, 1)\n",
            "Dimensão - test_set_x_flatten: (50, 12288)\n",
            "Dimensão - test_set_y: (50, 1)\n",
            "Verificação de valores após redimensionamento: [17 31 56 22 33]\n"
          ]
        }
      ],
      "source": [
        "# PARA VOCÊ FAZER: redimensionamento das imagens dos exemplos de treinamento e teste\n",
        "\n",
        "### COMECE AQUI ### (≈ 2 linhas)\n",
        "# Redimensionamento dos dados de entrada\n",
        "train_set_x_flatten = train_set_x_orig.reshape(train_set_x_orig.shape[0], -1)\n",
        "test_set_x_flatten = test_set_x_orig.reshape(test_set_x_orig.shape[0], -1)\n",
        "### TERMINE AQUI ###\n",
        "\n",
        "### COMECE AQUI ### (≈ 2 linhas)\n",
        "# Redimensionamento dos dados de saída (transposição)\n",
        "train_set_y = train_set_y\n",
        "test_set_y = test_set_y\n",
        "### TERMINE AQUI ###\n",
        "\n",
        "print (\"Dimensão - train_set_x_flatten: \" + str(train_set_x_flatten.shape))\n",
        "print (\"Dimensão - train_set_y: \" + str(train_set_y.shape))\n",
        "print (\"Dimensão - test_set_x_flatten: \" + str(test_set_x_flatten.shape))\n",
        "print (\"Dimensão - test_set_y: \" + str(test_set_y.shape))\n",
        "print (\"Verificação de valores após redimensionamento: \" + str(train_set_x_flatten[0,0:5]))"
      ]
    },
    {
      "cell_type": "markdown",
      "metadata": {
        "id": "zrwTfU75mQnQ"
      },
      "source": [
        "**Saída esperada**:\n",
        "\n",
        "    Dimensão - train_set_x_flatten: (209, 12288)\n",
        "    Dimensão - train_set_y: (209, 1)\n",
        "    Dimensão - test_set_x_flatten: (50, 12288)\n",
        "    Dimensão - test_set_y: (50, 1)\n",
        "    Verificação de valores após redimensionamento: [17 31 56 22 33]"
      ]
    },
    {
      "cell_type": "markdown",
      "metadata": {
        "id": "NUSzTptDmQnQ"
      },
      "source": [
        "### Normalização dos dados\n",
        "\n",
        "Nas imagens coloridas as cores vermelho, verde e azul (RGB) são especificadas para cada pixel da imagem, de forma que cada pixel consite de um vetor de tres números que variam no intervalo de 0 a 255.\n",
        "\n",
        "Uma etapa do processamento dos dados é normalizar esses dados de forma a ter dados com média zero e desvio padrão um. No caso de imagens o processo de normalização dos dados é mais simples e consiste simplesmente em dividir todos os valores da imagem por 255, que é o valor máximo de um pixel.\n",
        "\n",
        "### Exercício #3:\n",
        "\n",
        "Implemente a normalização dos dados de forma a ter todas os elementos dos dados de entrada entre 0 e 1."
      ]
    },
    {
      "cell_type": "code",
      "execution_count": null,
      "metadata": {
        "id": "xAM_2Q-XmQnR",
        "colab": {
          "base_uri": "https://localhost:8080/"
        },
        "outputId": "3409b06e-f500-495d-8cf2-1337ee4e4c3b"
      },
      "outputs": [
        {
          "output_type": "stream",
          "name": "stdout",
          "text": [
            "Máximo valor de train_set_x: 1.0\n",
            "Máximo valor de train_set_x: 1.0\n"
          ]
        }
      ],
      "source": [
        "# PARA VOCÊ FAZER: redimensionamento das imagens dos exemplos de treinamento e teste\n",
        "\n",
        "### COMECE AQUI ### (≈ 2 linhas)\n",
        "train_set_x = train_set_x_flatten / 255\n",
        "test_set_x = test_set_x_flatten / 255\n",
        "### TERMINE AQUI ###\n",
        "\n",
        "print (\"Máximo valor de train_set_x: \" + str(np.max(train_set_x)))\n",
        "print (\"Máximo valor de train_set_x: \" + str(np.max(test_set_x)))"
      ]
    },
    {
      "cell_type": "markdown",
      "metadata": {
        "id": "1rWzLma4mQnR"
      },
      "source": [
        "**Saída esperada**:\n",
        "\n",
        "    Máximo valor de train_set_x: 1.0\n",
        "    Máximo valor de train_set_x: 1.0\n"
      ]
    },
    {
      "cell_type": "markdown",
      "metadata": {
        "id": "mfIh5vEgmQnR"
      },
      "source": [
        "<font color='blue'>\n",
        "    \n",
        "**O que é importante lembrar:**\n",
        "\n",
        "As etapas principais do processamento de dados são as seguintes:\n",
        "- Verificar a dimensão e formato dos dados do problema. Nesse caso são: `m_train`, `m_test`, `num_px`, ...\n",
        "- Redimensionar os conjuntos de dados. Nesse caso para cada exemplo a entrada é um vetor linha de dimensão `(1, num_px \\* num_px \\* 3)`\n",
        "- Normalizar os dados"
      ]
    },
    {
      "cell_type": "markdown",
      "metadata": {
        "id": "VSG5-AXpmQnR"
      },
      "source": [
        "## 4 - Desenvolvimento e teste da rede neural rasa\n",
        "\n",
        "Nesse trabalho vamos testar diferentes redes neurais, variando numero de camadas, numero de neurônios nas camadas e tipo de função de ativação para obtermos uma solução que apresente resultados satisfatórios.\n",
        "\n",
        "Conforme vimos em aula, o desenvolvimento de uma RNA com o Keras é feito segundo as seguintes etapas:\n",
        "\n",
        "1. Definição dos dados de treinamento e de teste;\n",
        "2. Configuração da RNA;\n",
        "3. Compilação da RNA, que também inclui a configuração do processo de treinamento pela escolha da função de custo, do otimizador e da métrica para avaliar o desempenho;\n",
        "4. Treinamento da RNA;\n",
        "5. Teste e avaliação do desempenho da RNA.\n",
        "\n",
        "Observe que a etapa de definição e preparação dos dados já foi realizada."
      ]
    },
    {
      "cell_type": "markdown",
      "metadata": {
        "id": "VpQpE3gXmQnR"
      },
      "source": [
        "### 4.1 - Configuração da rede neural ##\n",
        "\n",
        "Vamos configurar, treinar e testar uma primeira rede neural simples de uma camada intermediária usando o Keras.\n",
        "\n",
        "Para essa rede de uma camada, o parâmetro mais importante é o número de neurônios da camada intermediária. Esse número deve ser compatível com o problema que queremos resolver e também com o número de exemplos que temos disponíveis para treinar a rede.\n",
        "\n",
        "Em linhas gerais cada imagem é representada por 12.288 números e temos 209 imagens de treinamento. Assim, no conjunto de dados de treinamento temos cerca de 2,6 milhões de valores. Existem um princípio em aprendizado supervisionado que diz que o número de parâmetros do sistema deve ser menor do que o número de valores presente no conjunto de dados utilizado para o treinamento. Assim, a sua rede neural deve ter um número de parâmetros menor do que 2,6 milhões. Se a rede possuir mais parâmetros do que o número de valores presentes no conjunto de dados, ela simplesmenet memoriza os dados de treinamento e não funciona direito para nenhum outro caso. Veremos com detalhes esse tipo de problema, mas é importante você estar ciente disso nesse momento.\n",
        "\n",
        "**Qualquer dúvida que você possa ter de como fazer esse trabalho usando o Keras, ela pode ser sanada olhando as notas da Aula 7 - Ferramentas de Desenvolvmento.**\n",
        "\n",
        "### Exercício #4:\n",
        "\n",
        "Usando o Keras configure uma rede neural com as seguintes caracteríticas:\n",
        "\n",
        "- uma única camada intermediária com 64 neurônios e função de ativação sigmóide;\n",
        "- como queremos resolver um problema de classificação binária a camada de saída deve possuir um único neurônio e ter função de ativação sigmóide.\n"
      ]
    },
    {
      "cell_type": "code",
      "execution_count": null,
      "metadata": {
        "scrolled": true,
        "id": "xBVvPhzMmQnR",
        "colab": {
          "base_uri": "https://localhost:8080/"
        },
        "outputId": "7a7ecdf6-c93c-4646-cb73-7f98fba48d38"
      },
      "outputs": [
        {
          "output_type": "stream",
          "name": "stdout",
          "text": [
            "Model: \"sequential_2\"\n",
            "_________________________________________________________________\n",
            " Layer (type)                Output Shape              Param #   \n",
            "=================================================================\n",
            " dense_4 (Dense)             (None, 64)                786496    \n",
            "                                                                 \n",
            " dense_5 (Dense)             (None, 1)                 65        \n",
            "                                                                 \n",
            "=================================================================\n",
            "Total params: 786561 (3.00 MB)\n",
            "Trainable params: 786561 (3.00 MB)\n",
            "Non-trainable params: 0 (0.00 Byte)\n",
            "_________________________________________________________________\n"
          ]
        }
      ],
      "source": [
        "# PARA VOCÊ FAZER: configuração de uma RNA rasa\n",
        "\n",
        "# Importar do Keras classes de modelos e camadas\n",
        "from tensorflow.keras.models import Sequential\n",
        "from tensorflow.keras.layers import Dense, Activation\n",
        "\n",
        "np.random.seed(1) # inicializa gerador de números aleatórios\n",
        "\n",
        "# Configuração da rede\n",
        "### COMECE AQUI ### (≈ 3 linhas)\n",
        "rna = Sequential()\n",
        "rna.add(Dense(64, activation='sigmoid', input_shape=(train_set_x.shape[1],)))\n",
        "rna.add(Dense(1, activation='sigmoid'))\n",
        "### TERMINE AQUI ###\n",
        "\n",
        "# Visualização da rede\n",
        "rna.summary()"
      ]
    },
    {
      "cell_type": "markdown",
      "metadata": {
        "id": "N4_vWYVVmQnR"
      },
      "source": [
        "**Saída esperada:**\n",
        "\n",
        "    Model: \"sequential\"\n",
        "    _________________________________________________________________\n",
        "    Layer (type)                 Output Shape              Param #   \n",
        "    =================================================================\n",
        "    dense (Dense)                (None, 64)                786496    \n",
        "    _________________________________________________________________\n",
        "    dense_1 (Dense)              (None, 1)                 65        \n",
        "    =================================================================\n",
        "    Total params: 786,561\n",
        "    Trainable params: 786,561\n",
        "    Non-trainable params: 0\n",
        "    _________________________________________________________________"
      ]
    },
    {
      "cell_type": "markdown",
      "metadata": {
        "id": "ucGCLFC6mQnR"
      },
      "source": [
        "### 4.2 - Compilação e treinamento da rede neural\n",
        "\n",
        "A segunda e terceira etapas de desenvolvimento da rede no Keras é a sua compilação e treinamento.\n",
        "\n",
        "### Exercício #5:\n",
        "\n",
        "Compile e treine a sua rede neural usando as seguintes opções:\n",
        "\n",
        "- Método de otimização: gradiente descendente;\n",
        "- Função de custo: entropia cruzada;\n",
        "- Métrica: exatidão;\n",
        "- No treinamento, utilize no método fit o parâmetro batch_size=209, que é o número de exemplos de treinamento;\n",
        "- Número de épocas: 10.\n",
        "\n",
        "Nesse momento estamos treinando a rede somente para verificar se ela é adequada para resolver o problema e se está configurada de forma correta, por isso usamos poucas épocas de treinamento."
      ]
    },
    {
      "cell_type": "code",
      "execution_count": null,
      "metadata": {
        "id": "NngVqR45mQnR",
        "colab": {
          "base_uri": "https://localhost:8080/"
        },
        "outputId": "b1656a8d-9587-4820-ce10-5a2e52b0693d"
      },
      "outputs": [
        {
          "output_type": "stream",
          "name": "stdout",
          "text": [
            "Epoch 1/10\n",
            "1/1 [==============================] - 1s 574ms/step - loss: 0.7188 - accuracy: 0.3636\n",
            "Epoch 2/10\n",
            "1/1 [==============================] - 0s 35ms/step - loss: 0.7114 - accuracy: 0.3828\n",
            "Epoch 3/10\n",
            "1/1 [==============================] - 0s 32ms/step - loss: 0.7047 - accuracy: 0.4354\n",
            "Epoch 4/10\n",
            "1/1 [==============================] - 0s 44ms/step - loss: 0.6988 - accuracy: 0.4593\n",
            "Epoch 5/10\n",
            "1/1 [==============================] - 0s 34ms/step - loss: 0.6936 - accuracy: 0.5120\n",
            "Epoch 6/10\n",
            "1/1 [==============================] - 0s 34ms/step - loss: 0.6889 - accuracy: 0.5598\n",
            "Epoch 7/10\n",
            "1/1 [==============================] - 0s 35ms/step - loss: 0.6848 - accuracy: 0.5646\n",
            "Epoch 8/10\n",
            "1/1 [==============================] - 0s 40ms/step - loss: 0.6811 - accuracy: 0.6172\n",
            "Epoch 9/10\n",
            "1/1 [==============================] - 0s 35ms/step - loss: 0.6778 - accuracy: 0.6220\n",
            "Epoch 10/10\n",
            "1/1 [==============================] - 0s 28ms/step - loss: 0.6748 - accuracy: 0.6411\n"
          ]
        }
      ],
      "source": [
        "# PARA VOCÊ FAZER: configuração do otimizador e treinamento da RNA rasa\n",
        "\n",
        "# Importar do Keras classe de otimizadores\n",
        "from tensorflow.keras import optimizers\n",
        "\n",
        "# Compilação da rede\n",
        "### COMECE AQUI ### (≈ 1 ou 2 linhas)\n",
        "\n",
        "rna.compile(optimizer= optimizers.SGD(learning_rate=0.001), loss='binary_crossentropy', metrics=['accuracy'])\n",
        "\n",
        "### TERMINE AQUI ###\n",
        "\n",
        "# Teste de treinamento da rede\n",
        "### COMECE AQUI ### (≈ 1 linha)\n",
        "history = rna.fit(train_set_x, train_set_y, batch_size=209, epochs=10, verbose=1)\n",
        "### TERMINE AQUI ###"
      ]
    },
    {
      "cell_type": "markdown",
      "metadata": {
        "id": "YYDQ_72cmQnR"
      },
      "source": [
        "**Saída esperada:**\n",
        "\n",
        "    Epoch 1/10\n",
        "    209/209 [==============================] - 0s 1ms/sample - loss: 0.7257 - acc: 0.3876\n",
        "    Epoch 2/10\n",
        "    209/209 [==============================] - 0s 272us/sample - loss: 0.6633 - acc: 0.6555\n",
        "    Epoch 3/10\n",
        "    209/209 [==============================] - 0s 162us/sample - loss: 0.6539 - acc: 0.6459\n",
        "    Epoch 4/10\n",
        "    209/209 [==============================] - 0s 153us/sample - loss: 0.6515 - acc: 0.6507\n",
        "    Epoch 5/10\n",
        "    209/209 [==============================] - 0s 153us/sample - loss: 0.6502 - acc: 0.6507\n",
        "    Epoch 6/10\n",
        "    209/209 [==============================] - 0s 143us/sample - loss: 0.6491 - acc: 0.6507\n",
        "    Epoch 7/10\n",
        "    209/209 [==============================] - 0s 153us/sample - loss: 0.6481 - acc: 0.6507\n",
        "    Epoch 8/10\n",
        "    209/209 [==============================] - 0s 166us/sample - loss: 0.6471 - acc: 0.6507\n",
        "    Epoch 9/10\n",
        "    209/209 [==============================] - 0s 157us/sample - loss: 0.6461 - acc: 0.6507\n",
        "    Epoch 10/10\n",
        "    209/209 [==============================] - 0s 167us/sample - loss: 0.6451 - acc: 0.6507\n",
        "\n",
        "Se o seu resultado é esse ou parecido com esse, você pode conluir que a rede está correta e é capaz de aprender os dados de treinamento. Assim, agora você está pronto para treinar a rede de verdade."
      ]
    },
    {
      "cell_type": "markdown",
      "metadata": {
        "id": "z4xdZbEImQnR"
      },
      "source": [
        "### Exercício #6:\n",
        "\n",
        "Retreine a sua rede usando 1000 épocas.\n",
        "\n",
        "Use a opção de **não imprimir** os resultados parciais do treinamento para não gerar tantos dados. No Keras podemos escolher como monitoramos o progresso do treinamento com o parâmetro verbose do método fit, que nos dá as seguintes opções:\n",
        "\n",
        "- verbose: inteiro = 0, 1, or 2.\n",
        "- verbose = 0: silencioso;\n",
        "- verbose = 1; barra de progresso (padrão);\n",
        "- verbose = 2; uma linha por época.\n",
        "\n",
        "Guarde os resultados do treinamento para poder fazer um gráfico do processo de treinamento. Se tiver dúvidas, veja nas notas da Aula 7 como fazer isso.\n",
        "\n",
        "Não se esqueça de usar no método fit o parâmetro batch_size=209.\n",
        "\n",
        "Esse treinamento pode levar alguns minutos."
      ]
    },
    {
      "cell_type": "code",
      "execution_count": null,
      "metadata": {
        "id": "GKd0WWAkmQnR"
      },
      "outputs": [],
      "source": [
        "# PARA VOCÊ FAZER: treinamento da RNA por 1000 épocas\n",
        "\n",
        "### COMECE AQUI ### (≈ 1 linha)\n",
        "history = rna.fit(train_set_x, train_set_y, batch_size=209, epochs=1000, verbose=0)\n",
        "### TERMINE AQUI ###"
      ]
    },
    {
      "cell_type": "code",
      "execution_count": null,
      "metadata": {
        "id": "oik_Ns2jmQnS",
        "colab": {
          "base_uri": "https://localhost:8080/"
        },
        "outputId": "1a175ebf-26af-40ef-cecd-d36a4dd42ea7"
      },
      "outputs": [
        {
          "output_type": "execute_result",
          "data": {
            "text/plain": [
              "dict_keys(['loss', 'accuracy'])"
            ]
          },
          "metadata": {},
          "execution_count": 39
        }
      ],
      "source": [
        "# Vamos verificar quais variáveis foram salvas no processo de treinamento\n",
        "history_dict = history.history\n",
        "history_dict.keys()"
      ]
    },
    {
      "cell_type": "markdown",
      "metadata": {
        "id": "Tdi_k_utmQnS"
      },
      "source": [
        "### 4.3 - Visualização do resultado do treinamento\n",
        "\n",
        "Para sabermos como o treinamento foi realizado precisamos visualizar a função de custo e a métrica ao longo do processo de treinamento.\n",
        "\n",
        "### Exercício #7:\n",
        "\n",
        "Implemente na célula abaixo a visualização dos resultados do treinamento. Observe que os valores da função de custo e da métrico estão no dicionário history com nomes `'loss'` e `'acc'`.\n",
        "\n",
        "Consulte as notas da Aula 7 para relembrar como fazer os gráficos da função de custo e da métrica em função do número de épocas."
      ]
    },
    {
      "cell_type": "code",
      "execution_count": null,
      "metadata": {
        "scrolled": false,
        "id": "rRqqSqO1mQnS",
        "colab": {
          "base_uri": "https://localhost:8080/",
          "height": 432
        },
        "outputId": "09091720-e682-4f50-f699-73b594adcd82"
      },
      "outputs": [
        {
          "output_type": "execute_result",
          "data": {
            "text/plain": [
              "Text(0.5, 1.0, 'Exatidão em Função das Épocas')"
            ]
          },
          "metadata": {},
          "execution_count": 41
        },
        {
          "output_type": "display_data",
          "data": {
            "text/plain": [
              "<Figure size 1200x400 with 2 Axes>"
            ],
            "image/png": "[encoded data removed]"
          },
          "metadata": {}
        }
      ],
      "source": [
        "# PARA VOCÊ FAZER: visualização do resultado do treinamento\n",
        "\n",
        "# Salva custo e exatidão em vetores\n",
        "### COMECE AQUI ### (≈ 2 linhas)\n",
        "custo = history.history['loss']\n",
        "exatidao = history.history['accuracy']\n",
        "### TERMINE AQUI ###\n",
        "\n",
        "# Cria vetor de épocas\n",
        "### COMECE AQUI ### (≈ 1 linha)\n",
        "epocas = range(1, len(custo) + 1)\n",
        "### TERMINE AQUI ###\n",
        "\n",
        "# Gráfico do custo em funçaõ das épocas\n",
        "### COMECE AQUI ### (≈ 5 linhas)\n",
        "plt.figure(figsize=(12, 4))\n",
        "plt.subplot(1, 2, 1)\n",
        "plt.plot(epocas, custo, 'b', label='Custo')\n",
        "plt.xlabel('Épocas')\n",
        "plt.ylabel('Custo')\n",
        "### TERMINE AQUI ###\n",
        "\n",
        "# Gráfico da exatidão em função das épocas\n",
        "### COMECE AQUI ### (≈ 5 linhas)\n",
        "plt.subplot(1, 2, 2)\n",
        "plt.plot(epocas, exatidao, 'r', label='Exatidão')\n",
        "plt.xlabel('Épocas')\n",
        "plt.ylabel('Exatidão')\n",
        "plt.title('Exatidão em Função das Épocas')\n",
        "### TERMINE AQUI ###"
      ]
    },
    {
      "cell_type": "markdown",
      "metadata": {
        "id": "l52u5SsqmQnS"
      },
      "source": [
        "**Saída esperada:**\n",
        "\n",
        "O comportamento esperado para a função de custo durante o treinamento é ela decrescer monotomicamente do início até o final. Para a exatidão, o comportamento esperado é ela aumentar durante o treinamento, apresentando algumas oscilações e alcançando um valor alto no final.\n",
        "\n",
        "Se você obteve esses resultados, então, a sua rede foi treinada de forma satisfatória e pode-se concluir que ela tem uma capacidade alta para se ajustar aos dados de treinamento."
      ]
    },
    {
      "cell_type": "markdown",
      "metadata": {
        "id": "x65IlItQmQnS"
      },
      "source": [
        "### 4.4 - Avaliação do desempenho da rede neural ###\n",
        "\n",
        "Após treinar a RNA é importante avaliar o seu desempenho com dados que não foram  utilizados no treinamento. Para isso usamos o dados de teste, que estão nos tensores `test_set_x` e `test_set_y`.\n",
        "\n",
        "### Exercício #8:\n",
        "\n",
        "Avalie a sua rede neural calculando os valores da função de custo e da exatidão para os dados de teste usando o método evaluate, conforme visto na Aula 7 - Ferramentas de desenvolvimento. Calcule esses valores também para os dados de treinamento para poder fazer comparação."
      ]
    },
    {
      "cell_type": "code",
      "execution_count": null,
      "metadata": {
        "id": "CO0eoHo5mQnS",
        "colab": {
          "base_uri": "https://localhost:8080/"
        },
        "outputId": "d3236ea2-d12e-46ab-c1ae-23174098ca78"
      },
      "outputs": [
        {
          "output_type": "stream",
          "name": "stdout",
          "text": [
            "7/7 [==============================] - 0s 5ms/step - loss: 0.5884 - accuracy: 0.6555\n",
            "[0.5884343385696411, 0.6555023789405823]\n",
            "2/2 [==============================] - 0s 12ms/step - loss: 0.7576 - accuracy: 0.3600\n",
            "[0.7576037645339966, 0.36000001430511475]\n"
          ]
        }
      ],
      "source": [
        "# PARA VOCÊ FAZER: calculo do custo e exatidão para os dados de teste\n",
        "\n",
        "# Usando método evaluate calcule o custo e a exatidão para os dados de treinamento e depois apresente os resultados\n",
        "### COMECE AQUI ### (≈ 1 linha)\n",
        "custo_e_metricas_train = rna.evaluate(train_set_x, train_set_y)\n",
        "### TERMINE AQUI ###\n",
        "print(custo_e_metricas_train)\n",
        "\n",
        "# Usando método evaluate calcule o custo e a exatidão para os dados de teste e depois apresente os resultados\n",
        "### COMECE AQUI ### (≈  linha)\n",
        "custo_e_metricas_test = rna.evaluate(test_set_x, test_set_y)\n",
        "### TERMINE AQUI ###\n",
        "print(custo_e_metricas_test)"
      ]
    },
    {
      "cell_type": "markdown",
      "metadata": {
        "collapsed": true,
        "id": "ktQesoH3mQnS"
      },
      "source": [
        "**Resultados esperados:**\n",
        "\n",
        "    209/209 [==============================] - 0s 656us/sample - loss: 0.3270 - acc: 0.9091\n",
        "    [0.3269858589868226, 0.90909094]\n",
        "    50/50 [==============================] - 0s 260us/sample - loss: 0.5960 - acc: 0.7000\n",
        "    [0.5959848165512085, 0.7]\n",
        "\n",
        "**Comentários:**\n",
        "\n",
        "- A exatidação obtida com os dados de treinamento é cerca de 90%, isso significa que a sua rede é satisfatória para resolver esse problema.\n",
        "\n",
        "- A exatidão obtida com os dados de teste é de cerca de 68%. Esse resultado de fato não é muito bom para essa tarefa simples de classificação.\n",
        "\n",
        "Analisando esses dados surge uma dúvida. Porque a rede não foi capaz de apresentar um bom desempenho nos dados de teste, se os resultados foram bons nos dados de treinamento?"
      ]
    },
    {
      "cell_type": "markdown",
      "metadata": {
        "id": "l2oblVTDmQnS"
      },
      "source": [
        "### Exercício #9:\n",
        "\n",
        "Para avaliar melhor o desepenho da sua rede calcule as saídas previstas dos exemplos do conjunto de teste usando o método predict e a função numpy round faça um gráfico com as classes reais e previstas dos dados do conjunto de teste. Se não souber como fazer consulte a Aula 7 - Ferramentas de desenvolvimento."
      ]
    },
    {
      "cell_type": "code",
      "execution_count": null,
      "metadata": {
        "id": "oQGAP4QnmQnS",
        "colab": {
          "base_uri": "https://localhost:8080/",
          "height": 408
        },
        "outputId": "0cbf5b2f-4e8c-4c0e-f88e-2d4f8a031ecf"
      },
      "outputs": [
        {
          "output_type": "stream",
          "name": "stdout",
          "text": [
            "2/2 [==============================] - 0s 17ms/step\n"
          ]
        },
        {
          "output_type": "display_data",
          "data": {
            "text/plain": [
              "<Figure size 1600x400 with 1 Axes>"
            ],
            "image/png": "[encoded data removed]"
          },
          "metadata": {}
        }
      ],
      "source": [
        "# PARA VOCÊ FAZER: calculo das classes previstas dos dados de teste\n",
        "\n",
        "# Usando método predict calcule as classes previstas\n",
        "### COMECE AQUI ### (≈ 2 linhas)\n",
        "y_prev = test_set_y\n",
        "yy_prev = rna.predict(test_set_x)\n",
        "### TERMINE AQUI ###\n",
        "\n",
        "# Transforma saida prevista em números inteiros\n",
        "yy_prev = np.round(yy_prev,0)\n",
        "\n",
        "# Gráfico das classes reais e previstas\n",
        "### COMECE AQUI ### (≈ 7 linhas)\n",
        "plt.figure(figsize=(16,4))\n",
        "plt.scatter(x=list(range(len(yy_prev))),y=yy_prev, color='r',label='predicao')\n",
        "plt.scatter(x=list(range(len(test_set_y))),y=test_set_y, label='real')\n",
        "plt.grid()\n",
        "plt.title('Avalicao de predicaos')\n",
        "plt.legend()\n",
        "plt.show()\n",
        "### TERMINE AQUI ###"
      ]
    },
    {
      "cell_type": "markdown",
      "metadata": {
        "collapsed": true,
        "id": "RgFNmsAhmQnT"
      },
      "source": [
        "**Saída esperada:**\n",
        "\n",
        "<img src=\"classes_previstas_test.png\" style=\"width:500px;height:280px;\">\n",
        "\n",
        "\n",
        "**Importante:**\n",
        "\n",
        "No Google Colab o comando  ```<img src=\"imagem\"> ``` para mostrar uma imagem em uma célula de texto não funciona.\n",
        "\n",
        "Para mostrar uma imagem em uma célula de texto (markdown) no **Google Colab** deve-se usar o seguinte procedimento:\n",
        "\n",
        "1. Na célula de texto clicar em inserir imagem. Ao fazer isso o comando `![alt text](https://)` é inserido.\n",
        "2. A imagem deve estar no Google Drive. Vá até onde está o arquivo da imagem no Google Drive, clique com o botão direito do mouse e selecione \"Gerar link compartilhável\" (em inglês \"Get shareable link\") e copie o link no lugar de \"https://\".\n",
        "3. O link copiado é algo do tipo: https://drive.google.com/open?id=1GWk0IjW-SQcwQvhsgOXpjscbROdxXCUI\n",
        "4. Trocar a palavra \"open\" por \"uc\" e pronto a imagem irá aparecer.\n"
      ]
    },
    {
      "cell_type": "markdown",
      "metadata": {
        "id": "aSGmyuxWmQnT"
      },
      "source": [
        "**Comentários:**\n",
        "\n",
        "- Uma previsão errada de classe pode ser dectada pelos círculos vermelhos, pois quando a classe prevista é igual à classe real o círculo azul é colocado em cima do vermelho tapando-o.\n",
        "\n",
        "- Provavelmente no grafico devem aparecer mais círculos azuis do que vermelhos indicando que existem mais acertos do que erros na previsão das classes."
      ]
    },
    {
      "cell_type": "markdown",
      "metadata": {
        "collapsed": true,
        "id": "2143_ehvmQnT"
      },
      "source": [
        "Use o código a seguir, mudando a variável 'index', para você visualizar as imagens e a classe prevista dos exemplos de teste."
      ]
    },
    {
      "cell_type": "code",
      "execution_count": null,
      "metadata": {
        "id": "uhIbjoiumQnT",
        "colab": {
          "base_uri": "https://localhost:8080/",
          "height": 449
        },
        "outputId": "5d7f2d4d-e06c-474f-ce34-64b5a15d7b51"
      },
      "outputs": [
        {
          "output_type": "stream",
          "name": "stdout",
          "text": [
            "y = [1], imagem é prevista como sendo uma 'non-cat\n"
          ]
        },
        {
          "output_type": "display_data",
          "data": {
            "text/plain": [
              "<Figure size 640x480 with 1 Axes>"
            ],
            "image/png": "[encoded data removed]"
          },
          "metadata": {}
        }
      ],
      "source": [
        "# Exemplo de classificação de uma imagem.\n",
        "index = 6\n",
        "plt.imshow(test_set_x[index,:].reshape((num_px, num_px, 3)))\n",
        "print (\"y = \" + str(test_set_y[index]) + \", imagem é prevista como sendo uma '\" + classes[np.squeeze(yy_prev[index])].decode(\"utf-8\"))"
      ]
    },
    {
      "cell_type": "markdown",
      "metadata": {
        "id": "RLbwjqnCmQnT"
      },
      "source": [
        "**Interpretação dos resultados:**\n",
        "\n",
        "O custo decrescendo durante o treinamento mostra que os parâmetros estão sendo ajustados de forma a que a rede está aprendendo os dados de treinamento. Como o custo obtido não é muito baixo, então, provavelmente é possível treinar ainda mais a rede para obter melhores resultados nos dados de treinamento.\n",
        "\n",
        "Tente refazer as etapas 4.2, 4.3 e 4.4, aumentando o número de épocas para algo em torno de 5000, para retreinar a rede. Você verá que o custo de treinamento diminui até praticamente zero e a exatidão aumenta para quase 100%.\n",
        "\n",
        "**Importante:** só tente treinar com mais épocas após entregar o seu trabalho, pois os resultados esperados são para o treinamento com 1000 épocas.\n",
        "\n",
        "Contudo, nem sempre é bom treinar a rede até se obter custo perto de zero e exatidão 100% para os dados de treinamento. Em geral quando isso acontece o custo e a exatidão para os dados de teste pioraram. Nesse caso, pode ocorrer que a rede está memorizando os dados de treinamento e não generalizando a solução do problema. Veremos daqui algumas aulas como resolver esse problema. Mas podemos verificar esse fato retreinando a rede para um número maior de épocas."
      ]
    },
    {
      "cell_type": "markdown",
      "metadata": {
        "id": "rZ9jk62GmQnT"
      },
      "source": [
        "## 5 - Desenvolvimento e teste da rede neural deep-learning ##\n",
        "\n",
        "Nessa etapa do trabalho você vai configurar, treinar e testar uma rede neural deep learning.\n",
        "\n",
        "**Qualquer dúvida que você possa ter de como fazer essa parte do trabalho, ela pode ser sanada olhando as notas de aula.**\n",
        "\n",
        "### Exercício #10:\n",
        "\n",
        "Usando o Keras configure e crie uma rede neural com as seguintes caracteríticas:\n",
        "\n",
        "- três camadas intermediárias com função de ativação tipo ReLu;\n",
        "- número de neurônios das camadas intermediárias: 64, 32, 16;\n",
        "- camada de saída deve possuir um único neurônio e ter função de ativação sigmóide.\n",
        "\n",
        "Essa rede deve ser criada dentro de uma função (build_model) e os argumentos dessa função são: a dimensão dos dados de entrada e os números de neurônios das diversas camadas."
      ]
    },
    {
      "cell_type": "code",
      "execution_count": null,
      "metadata": {
        "id": "9ojCmuskmQnT",
        "colab": {
          "base_uri": "https://localhost:8080/"
        },
        "outputId": "6e6397a4-f539-4d8d-9c88-9a5471ffb47e"
      },
      "outputs": [
        {
          "output_type": "stream",
          "name": "stdout",
          "text": [
            "Model: \"sequential_3\"\n",
            "_________________________________________________________________\n",
            " Layer (type)                Output Shape              Param #   \n",
            "=================================================================\n",
            " dense_6 (Dense)             (None, 64)                786496    \n",
            "                                                                 \n",
            " dense_7 (Dense)             (None, 32)                2080      \n",
            "                                                                 \n",
            " dense_8 (Dense)             (None, 16)                528       \n",
            "                                                                 \n",
            " dense_9 (Dense)             (None, 1)                 17        \n",
            "                                                                 \n",
            "=================================================================\n",
            "Total params: 789121 (3.01 MB)\n",
            "Trainable params: 789121 (3.01 MB)\n",
            "Non-trainable params: 0 (0.00 Byte)\n",
            "_________________________________________________________________\n"
          ]
        }
      ],
      "source": [
        "# PARA VOCÊ FAZER: configuração da rede deep-learning\n",
        "\n",
        "# Importar do Keras modelos e camadas\n",
        "from tensorflow.keras import models\n",
        "from tensorflow.keras import layers\n",
        "\n",
        "def build_model(data_shape,n1,n2,n3,n4):\n",
        "    \"\"\"\n",
        "    Essa função configura uma rede neural deep-learnig\n",
        "\n",
        "    Argumentos:\n",
        "    data_shape = tuple com dimensões dos dados de entrada da rede\n",
        "    n1 = número de neurônios da primeira camada\n",
        "    n2 = número de neurônios da segunda camada\n",
        "    n3 = número de neurônios da terceira camada\n",
        "    n4 = número de neurônios da camada de saída\n",
        "\n",
        "    Retorna: modelo da rede neural\n",
        "    \"\"\"\n",
        "\n",
        "    np.random.seed(3)\n",
        "\n",
        "    model = models.Sequential()\n",
        "\n",
        "    # Adicione as camadas em seu modelo de RNA\n",
        "    #### COMECE AQUI ### (≈ 4 linhas)\n",
        "    model.add(layers.Dense(n1, activation='relu', input_shape=data_shape))\n",
        "    model.add(layers.Dense(n2, activation='relu'))\n",
        "    model.add(layers.Dense(n3, activation='relu'))\n",
        "    model.add(layers.Dense(n4, activation='sigmoid'))\n",
        "    ### TERMINE AQUI ###\n",
        "\n",
        "    return model\n",
        "\n",
        "# Redefine semente para geração de números aleatórios\n",
        "np.random.seed(3)\n",
        "\n",
        "# Dimensão dos dados de entrada\n",
        "data_shape = (12288,)\n",
        "\n",
        "# Definição dos números de neurônios das camadas\n",
        "#### COMECE AQUI ### (≈ 4 linhas)\n",
        "n1 = 64\n",
        "n2 = 32\n",
        "n3 = 16\n",
        "n4 = 1\n",
        "### TERMINE AQUI ###\n",
        "\n",
        "# Cria rede neural deep learning\n",
        "#### COMECE AQUI ### (≈ 2 linhas)\n",
        "rnadl = build_model(data_shape, n1, n2, n3, n4)\n",
        "rnadl.summary()\n",
        "### TERMINE AQUI ###"
      ]
    },
    {
      "cell_type": "markdown",
      "metadata": {
        "id": "mU4pW7U6mQnT"
      },
      "source": [
        "**Saída esperada:**\n",
        "\n",
        "    Model: \"sequential_1\"\n",
        "    _________________________________________________________________\n",
        "    Layer (type)                 Output Shape              Param #   \n",
        "    =================================================================\n",
        "    dense_2 (Dense)              (None, 64)                786496    \n",
        "    _________________________________________________________________\n",
        "    dense_3 (Dense)              (None, 32)                2080      \n",
        "    _________________________________________________________________\n",
        "    dense_4 (Dense)              (None, 16)                528       \n",
        "    _________________________________________________________________\n",
        "    dense_5 (Dense)              (None, 1)                 17        \n",
        "    =================================================================\n",
        "    Total params: 789,121\n",
        "    Trainable params: 789,121\n",
        "    Non-trainable params: 0\n",
        "    _________________________________________________________________"
      ]
    },
    {
      "cell_type": "markdown",
      "metadata": {
        "id": "GDS2-JeEmQnU"
      },
      "source": [
        "### Exercício #11:\n",
        "\n",
        "Repita os itens 4.2, 4.3 e 4.4 para a rede neural deep-learning. Use `rnadl` como nome da rede e acrescentando as letras `dl` nas variáveis de custo, exatidao e epocas.\n",
        "\n",
        "Na célula abaixo compile e treine a sua rede deep-learning para 10 épocas. Esse treinamento é só para verificar se o programa está correto."
      ]
    },
    {
      "cell_type": "code",
      "execution_count": null,
      "metadata": {
        "id": "NKkJQaSNmQnU",
        "colab": {
          "base_uri": "https://localhost:8080/"
        },
        "outputId": "9e194ae6-bb46-4961-b407-c8193c2c87e7"
      },
      "outputs": [
        {
          "output_type": "stream",
          "name": "stderr",
          "text": [
            "WARNING:absl:`lr` is deprecated in Keras optimizer, please use `learning_rate` or use the legacy optimizer, e.g.,tf.keras.optimizers.legacy.SGD.\n"
          ]
        },
        {
          "output_type": "stream",
          "name": "stdout",
          "text": [
            "Epoch 1/10\n",
            "1/1 [==============================] - 1s 524ms/step - loss: 0.7489 - accuracy: 0.3636\n",
            "Epoch 2/10\n",
            "1/1 [==============================] - 0s 43ms/step - loss: 0.6658 - accuracy: 0.6507\n",
            "Epoch 3/10\n",
            "1/1 [==============================] - 0s 31ms/step - loss: 0.6516 - accuracy: 0.6555\n",
            "Epoch 4/10\n",
            "1/1 [==============================] - 0s 35ms/step - loss: 0.6472 - accuracy: 0.6555\n",
            "Epoch 5/10\n",
            "1/1 [==============================] - 0s 29ms/step - loss: 0.6429 - accuracy: 0.6555\n",
            "Epoch 6/10\n",
            "1/1 [==============================] - 0s 46ms/step - loss: 0.6391 - accuracy: 0.6555\n",
            "Epoch 7/10\n",
            "1/1 [==============================] - 0s 40ms/step - loss: 0.6351 - accuracy: 0.6555\n",
            "Epoch 8/10\n",
            "1/1 [==============================] - 0s 32ms/step - loss: 0.6310 - accuracy: 0.6555\n",
            "Epoch 9/10\n",
            "1/1 [==============================] - 0s 38ms/step - loss: 0.6271 - accuracy: 0.6555\n",
            "Epoch 10/10\n",
            "1/1 [==============================] - 0s 33ms/step - loss: 0.6233 - accuracy: 0.6555\n"
          ]
        },
        {
          "output_type": "execute_result",
          "data": {
            "text/plain": [
              "<keras.src.callbacks.History at 0x7f0332797dc0>"
            ]
          },
          "metadata": {},
          "execution_count": 47
        }
      ],
      "source": [
        "# PARA VOCÊ FAZER: compilação e treinamento da rede deep-learning\n",
        "\n",
        "# Compilação da rede\n",
        "### COMECE AQUI ### (≈ 2 linhas)\n",
        "sgd = optimizers.SGD(lr=0.01)\n",
        "rnadl.compile(optimizer=sgd, loss='binary_crossentropy', metrics=['accuracy'])\n",
        "### TERMINE AQUI ###\n",
        "\n",
        "# Teste de treinamento da rede\n",
        "### COMECE AQUI ### (≈ 1 linha)\n",
        "rnadl.fit(train_set_x, train_set_y, batch_size=209, epochs=10)\n",
        "### TERMINE AQUI ###"
      ]
    },
    {
      "cell_type": "markdown",
      "metadata": {
        "id": "gPC23-OEmQnU"
      },
      "source": [
        "**Saída esparada:**\n",
        "\n",
        "    Epoch 1/10\n",
        "    209/209 [==============================] - 0s 1ms/sample - loss: 0.7339 - acc: 0.3206\n",
        "    Epoch 2/10\n",
        "    209/209 [==============================] - 0s 175us/sample - loss: 0.6939 - acc: 0.5072\n",
        "    Epoch 3/10\n",
        "    209/209 [==============================] - 0s 172us/sample - loss: 0.6786 - acc: 0.5933\n",
        "    Epoch 4/10\n",
        "    209/209 [==============================] - 0s 191us/sample - loss: 0.6661 - acc: 0.6268\n",
        "    Epoch 5/10\n",
        "    209/209 [==============================] - 0s 177us/sample - loss: 0.6588 - acc: 0.6316\n",
        "    Epoch 6/10\n",
        "    209/209 [==============================] - 0s 167us/sample - loss: 0.6529 - acc: 0.6459\n",
        "    Epoch 7/10\n",
        "    209/209 [==============================] - 0s 162us/sample - loss: 0.6479 - acc: 0.6507\n",
        "    Epoch 8/10\n",
        "    209/209 [==============================] - 0s 172us/sample - loss: 0.6433 - acc: 0.6507\n",
        "    Epoch 9/10\n",
        "    209/209 [==============================] - 0s 167us/sample - loss: 0.6391 - acc: 0.6555\n",
        "    Epoch 10/10\n",
        "    209/209 [==============================] - 0s 167us/sample - loss: 0.6359 - acc: 0.6555"
      ]
    },
    {
      "cell_type": "markdown",
      "metadata": {
        "id": "zwsHlnCKmQnU"
      },
      "source": [
        "Na célula abaixo treine a sua rede deep-learning por 1000 épocas. Use verbose = 0 e batch_size = 209."
      ]
    },
    {
      "cell_type": "code",
      "execution_count": null,
      "metadata": {
        "id": "pIMVupe6mQnU",
        "colab": {
          "base_uri": "https://localhost:8080/"
        },
        "outputId": "d0df1c3f-a551-44ed-fecb-94964ad3eb1a"
      },
      "outputs": [
        {
          "output_type": "execute_result",
          "data": {
            "text/plain": [
              "dict_keys(['loss', 'accuracy'])"
            ]
          },
          "metadata": {},
          "execution_count": 48
        }
      ],
      "source": [
        "# PARA VOCÊ FAZER: treinamento da rede deep-learning por 1000 épocas\n",
        "\n",
        "### COMECE AQUI ### (≈ 1 linha)\n",
        "historydl = rnadl.fit(train_set_x, train_set_y, batch_size=209, epochs=1000, verbose=0)\n",
        "### TERMINE AQUI ###\n",
        "\n",
        "# Vamos verificar quais variáveis foram salvas no processo de treinamento\n",
        "historydl_dict = historydl.history\n",
        "historydl_dict.keys()"
      ]
    },
    {
      "cell_type": "markdown",
      "metadata": {
        "id": "Tf3851EYmQnU"
      },
      "source": [
        "### Exercício #12:\n",
        "\n",
        "Na célula abaixo introduza os comandos para visualizar os resultados da sua rede deep-learning."
      ]
    },
    {
      "cell_type": "code",
      "execution_count": null,
      "metadata": {
        "scrolled": false,
        "id": "7VpfDjwSmQnU",
        "colab": {
          "base_uri": "https://localhost:8080/",
          "height": 946
        },
        "outputId": "13aa59b1-8fbe-4ba2-ea75-534e8fcb83bb"
      },
      "outputs": [
        {
          "output_type": "display_data",
          "data": {
            "text/plain": [
              "<Figure size 1200x500 with 1 Axes>"
            ],
            "image/png": "[encoded data removed]"
          },
          "metadata": {}
        },
        {
          "output_type": "display_data",
          "data": {
            "text/plain": [
              "<Figure size 640x480 with 1 Axes>"
            ],
            "image/png": "[encoded data removed]"
          },
          "metadata": {}
        }
      ],
      "source": [
        "# PARA VOCÊ FAZER: visualização do resultado do treinamento da rede deep-learning\n",
        "\n",
        "# Salva custo e exatidão em vetores\n",
        "### COMECE AQUI ### (≈ 2 linhas)\n",
        "custodl = historydl_dict['loss']\n",
        "exatidaodl = historydl_dict['accuracy']\n",
        "### TERMINE AQUI ###\n",
        "\n",
        "# Cria vetor de épocas\n",
        "### COMECE AQUI ### (≈ 1 linha)\n",
        "epocasdl = range(1, len(custodl) + 1)\n",
        "### TERMINE AQUI ###\n",
        "\n",
        "# Gráfico do custo em funçaõ das épocas\n",
        "### COMECE AQUI ### (≈ 5 linhas)\n",
        "plt.figure(figsize=(12, 5))\n",
        "plt.subplot(1, 2, 1)\n",
        "plt.plot(epocasdl, custodl, 'b', label='Custo de Treinamento')\n",
        "plt.title('Custo de Treinamento')\n",
        "plt.xlabel('Épocas')\n",
        "plt.ylabel('Custo')\n",
        "plt.legend()\n",
        "plt.show()\n",
        "### TERMINE AQUI ###\n",
        "\n",
        "# Gráfico da exatidão em função das épocas\n",
        "### COMECE AQUI ### (≈ 5 linhas)\n",
        "plt.subplot(1, 2, 2)\n",
        "plt.plot(epocasdl, exatidaodl, 'r', label='Exatidão de Treinamento')\n",
        "plt.title('Exatidão de Treinamento')\n",
        "plt.xlabel('Épocas')\n",
        "plt.ylabel('Exatidão')\n",
        "plt.legend()\n",
        "plt.show()\n",
        "### TERMINE AQUI ###"
      ]
    },
    {
      "cell_type": "markdown",
      "metadata": {
        "id": "PwuQt7eLmQnU"
      },
      "source": [
        "### Exercício #13:\n",
        "\n",
        "Na célula abaixo introduza os comandos para avaliar a sua rede deep-learning para os dados de treinamento e de teste."
      ]
    },
    {
      "cell_type": "code",
      "execution_count": null,
      "metadata": {
        "id": "EfujtzJEmQnU",
        "colab": {
          "base_uri": "https://localhost:8080/"
        },
        "outputId": "c6ee5db1-bc4f-47ee-aa54-90c31f858d44"
      },
      "outputs": [
        {
          "output_type": "stream",
          "name": "stdout",
          "text": [
            "7/7 [==============================] - 0s 4ms/step - loss: 0.0078 - accuracy: 1.0000\n",
            "[0.007815475575625896, 1.0]\n",
            "2/2 [==============================] - 0s 7ms/step - loss: 1.0058 - accuracy: 0.7600\n",
            "[1.0058139562606812, 0.7599999904632568]\n"
          ]
        }
      ],
      "source": [
        "# PARA VOCÊ FAZER: calculo do custo e exatidão para os dados de treinamento e de teste para a rede deep-learning\n",
        "\n",
        "# Usando método evaluate calcule o custo e a exatidão dos dados de treinamento e depois apresente os resultados\n",
        "### COMECE AQUI ### (≈ 1 linha)\n",
        "custo_e_metricasdl_train = rnadl.evaluate(train_set_x, train_set_y)\n",
        "### TERMINE AQUI ###\n",
        "print(custo_e_metricasdl_train)\n",
        "\n",
        "# Usando método evaluate calcule o custo e a exatidão dos dados de teste e depois apresente os resultados\n",
        "### COMECE AQUI ### (≈ 1 linha)\n",
        "custo_e_metricasdl_test = rnadl.evaluate(test_set_x, test_set_y)\n",
        "### TERMINE AQUI ###\n",
        "print(custo_e_metricasdl_test)"
      ]
    },
    {
      "cell_type": "markdown",
      "metadata": {
        "id": "bmQaVGc0mQnV"
      },
      "source": [
        "**Saída esperada:**\n",
        "\n",
        "    209/209 [==============================] - 0s 482us/sample - loss: 0.0115 - acc: 1.0000\n",
        "    [0.011545336649320913, 1.0]\n",
        "    50/50 [==============================] - 0s 399us/sample - loss: 1.0013 - acc: 0.7400\n",
        "    [1.0013008093833924, 0.74]"
      ]
    },
    {
      "cell_type": "markdown",
      "metadata": {
        "id": "MJprnu3cmQnV"
      },
      "source": [
        "### Exercício #14:\n",
        "\n",
        "Na célula abaixo introduza os comandos para clcular as classes previstas para os dados de teste."
      ]
    },
    {
      "cell_type": "code",
      "execution_count": null,
      "metadata": {
        "id": "gAoX0B8lmQnV",
        "colab": {
          "base_uri": "https://localhost:8080/",
          "height": 427
        },
        "outputId": "414a4efb-022b-4676-94df-35dcb0dfad20"
      },
      "outputs": [
        {
          "output_type": "stream",
          "name": "stdout",
          "text": [
            "2/2 [==============================] - 0s 6ms/step\n"
          ]
        },
        {
          "output_type": "display_data",
          "data": {
            "text/plain": [
              "<Figure size 1600x400 with 2 Axes>"
            ],
            "image/png": "[encoded data removed]"
          },
          "metadata": {}
        }
      ],
      "source": [
        "# PARA VOCÊ FAZER: calculo das classes previstas dos dados de teste para a rede deep-learning\n",
        "\n",
        "# Usando método predict calcule as classes previstas\n",
        "### COMECE AQUI ### (≈ 2 linhas)\n",
        "y_prevdl = rnadl.predict(test_set_x)\n",
        "yy_prevdl = (y_prevdl > 0.5).astype(int)\n",
        "### TERMINE AQUI ###\n",
        "\n",
        "# Transforma saida prevista em números inteiros\n",
        "yy_prevdl = yy_prevdl.astype(int)\n",
        "\n",
        "# Gráfico das classes reais e previstas\n",
        "### COMECE AQUI ### (≈ 7 linhas)\n",
        "plt.figure(figsize=(16, 4))\n",
        "plt.subplot(1, 2, 1)\n",
        "plt.imshow(test_set_y, cmap='gray')\n",
        "plt.title('Classes Reais dos Dados de Teste')\n",
        "plt.xlabel('Exemplos')\n",
        "plt.ylabel('Classes')\n",
        "\n",
        "plt.subplot(1, 2, 2)\n",
        "plt.imshow(yy_prevdl, cmap='gray')\n",
        "plt.title('Classes Previstas dos Dados de Teste')\n",
        "plt.xlabel('Exemplos')\n",
        "plt.ylabel('Classes')\n",
        "\n",
        "plt.show()\n",
        "### TERMINE AQUI ###"
      ]
    },
    {
      "cell_type": "markdown",
      "metadata": {
        "id": "gwsUvgvTmQnV"
      },
      "source": [
        "**Saída esperada:**\n",
        "\n",
        "O número de erros de classificação é igual a 12 (ou 13), representado por 12 (13) bolinhas vermelhas, o que significa 76% (74%) dos 50 exemplos de teste.\n",
        "\n",
        "**Interpretação dos resultados:**\n",
        "\n",
        "Se você fez tudo correto, então, os resultados obtidos do custo e da exatidão para os dados de teste são melhores para a rede neural deep-learning do que para a rede neural rasa, como era de se esperar.\n",
        "\n",
        "Observe que a rede deep learning possui quase o mesmo número de parâmetros do que a rede rasa, mas obtém resultados mais satisfatórios.\n",
        "\n",
        "O que fez com que os resultados da rede deep learning fossem muito melhores do que a rede rasa? O número de camadas, o tipo de função de ativação, ou simplesmenete o número de parâmetros?"
      ]
    },
    {
      "cell_type": "markdown",
      "metadata": {
        "collapsed": true,
        "id": "BC12DSd4mQnV"
      },
      "source": [
        "<font color='blue'>\n",
        "    \n",
        "**O que é importante lembrar:**\n",
        "- A escolha do número de neurônios das camadas da rede é muito importane\n",
        "- O tipo de função de ativação usada pode fazer diferença nos resultados\n",
        "- Não é uma tarefa fácil desenvolver uma rede neural que apresenta um desempenho bom, mas não é impossível"
      ]
    },
    {
      "cell_type": "markdown",
      "metadata": {
        "collapsed": true,
        "id": "ICeoSsGgmQnV"
      },
      "source": [
        "## 6 - Teste as redes que você desenvolveu com sua própria imagem (exercício opcional) ##\n",
        "\n",
        "Você pode usar qualquer imagem e verificar se as suas redes neurais são eficientes. Para fazer isso faça:\n",
        "    1. Clique em \"File\" na parte superior desse notebook e depois clique \"Open\" para ir para o seu diretório.\n",
        "    2. Adicione a sua imagem nesse diretório.\n",
        "    3. Troque o nome do arquivo onde se encontra a imagem no código abaixo.\n",
        "    4. Execute o código e verifique se a rede acerta (1 = imagem mostra gato, 0 = imagem não tem gato)!"
      ]
    },
    {
      "cell_type": "code",
      "execution_count": null,
      "metadata": {
        "scrolled": false,
        "id": "8duPUfgSmQnV"
      },
      "outputs": [],
      "source": [
        "# PARA VOCÊ FAZER: teste da rede com suas imagens\n",
        "\n",
        "## COMECE AQUI ## (coloque o nome do arquivo com a sua imagem)\n",
        "my_image = /content/licensed-image.jpg\n",
        "## TERMINE AQUI ##\n",
        "\n",
        "# Pré-processamento da imagem para acertar dimensões.\n",
        "fname = my_image\n",
        "image = Image.open(fname)\n",
        "my_image = image.resize((num_px, num_px), Image.ANTIALIAS)\n",
        "my_image = np.array(my_image)\n",
        "my_image = my_image.reshape((1, num_px*num_px*3))\n",
        "my_image = my_image.astype(float)\n",
        "\n",
        "# Previsão da rede neural\n",
        "y_prev_myimage = rnadl.predict(my_image)\n",
        "my_predicted_image = np.round(y_prev_myimage)\n",
        "my_predicted_image = my_predicted_image.astype(int)\n",
        "\n",
        "plt.imshow(image)\n",
        "print(\"y = \" + str(np.squeeze(my_predicted_image)) + \", sua rede prevê \\\"\" + classes[int(np.squeeze(my_predicted_image)),].decode(\"utf-8\") +  \"\\\" picture.\")"
      ]
    },
    {
      "cell_type": "markdown",
      "metadata": {
        "id": "Dnvjz-xGmQnV"
      },
      "source": [
        "Finalmente, como sugestão, tente fazer alterações de parâmetros e executar o notebook novamente. Mas lembre-se de salvar o seu trabalho em um arquivo pdf e enviar para avaliação antes de modificar o notebook e realizar os seus testes.\n",
        "\n",
        "Algumas sugestões do que alterar:\n",
        "\n",
        "- Número de camadas;\n",
        "- Número de neurônios nas camadas;\n",
        "- Funções de ativação;\n",
        "- Tente impor um taxa de aprendizado;\n",
        "- Tente outras formas de normalizar os dados.\n"
      ]
    }
  ],
  "metadata": {
    "coursera": {
      "course_slug": "neural-networks-deep-learning",
      "graded_item_id": "XaIWT",
      "launcher_item_id": "zAgPl"
    },
    "kernelspec": {
      "display_name": "Python 3",
      "language": "python",
      "name": "python3"
    },
    "language_info": {
      "codemirror_mode": {
        "name": "ipython",
        "version": 3
      },
      "file_extension": ".py",
      "mimetype": "text/x-python",
      "name": "python",
      "nbconvert_exporter": "python",
      "pygments_lexer": "ipython3",
      "version": "3.11.2"
    },
    "colab": {
      "provenance": [],
      "toc_visible": true,
      "include_colab_link": true
    }
  },
  "nbformat": 4,
  "nbformat_minor": 0
}